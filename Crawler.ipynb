{
 "cells": [
  {
   "cell_type": "code",
   "execution_count": 1,
   "id": "c96f60bd-299d-497a-9521-511f2016054f",
   "metadata": {},
   "outputs": [],
   "source": [
    "%load_ext autoreload\n",
    "%autoreload 2"
   ]
  },
  {
   "cell_type": "code",
   "execution_count": 3,
   "id": "8e5d6e74-fb2b-4c48-b781-a8dcf20f0bb8",
   "metadata": {},
   "outputs": [],
   "source": [
    "from utils import browser\n",
    "from utils import logs\n",
    "import time"
   ]
  },
  {
   "cell_type": "code",
   "execution_count": null,
   "id": "07a74935",
   "metadata": {},
   "outputs": [],
   "source": [
    "EXP_ID = 1\n",
    "visited_links = browser.run_experiment()"
   ]
  },
  {
   "cell_type": "code",
   "execution_count": 6,
   "id": "00546d3e",
   "metadata": {},
   "outputs": [],
   "source": [
    "# Save the links retrieved during random walk\n",
    "filename = f\"{EXP_ID}_{time.time()}.txt\"\n",
    "logs.dump(filename, visited_links)"
   ]
  },
  {
   "cell_type": "code",
   "execution_count": 10,
   "id": "8185b3b7",
   "metadata": {},
   "outputs": [],
   "source": [
    "# Retrieve the information of the watched videos\n",
    "logs_rel = logs.load(filename)"
   ]
  },
  {
   "cell_type": "code",
   "execution_count": null,
   "id": "a038960b",
   "metadata": {},
   "outputs": [],
   "source": [
    "all_comments, all_infos = browser.load_information(logs_rel)\n",
    "browser.save_dataframes(all_comments, all_infos)"
   ]
  }
 ],
 "metadata": {
  "jupytext": {
   "formats": "ipynb,md,auto:light"
  },
  "kernelspec": {
   "display_name": "Python 3 (ipykernel)",
   "language": "python",
   "name": "python3"
  },
  "language_info": {
   "codemirror_mode": {
    "name": "ipython",
    "version": 3
   },
   "file_extension": ".py",
   "mimetype": "text/x-python",
   "name": "python",
   "nbconvert_exporter": "python",
   "pygments_lexer": "ipython3",
   "version": "3.8.12"
  }
 },
 "nbformat": 4,
 "nbformat_minor": 5
}
