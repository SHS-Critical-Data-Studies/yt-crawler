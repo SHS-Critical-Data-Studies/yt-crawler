{
 "cells": [
  {
   "cell_type": "code",
   "execution_count": 1,
   "id": "c96f60bd-299d-497a-9521-511f2016054f",
   "metadata": {},
   "outputs": [
    {
     "name": "stdout",
     "output_type": "stream",
     "text": [
      "It currently works on windows only\n"
     ]
    }
   ],
   "source": [
    "from bot_studio import *"
   ]
  },
  {
   "cell_type": "code",
   "execution_count": null,
   "id": "d213a55a-85e1-4685-8c1c-d34d31ec80b0",
   "metadata": {},
   "outputs": [],
   "source": [
    "import os\n",
    "from selenium import webdriver\n",
    "from selenium.webdriver.common.keys import Keys\n",
    "from selenium.webdriver.common.by import By\n",
    "import time\n",
    "\n",
    "from selenium import webdriver\n",
    "from webdriver_manager.chrome import ChromeDriverManager\n",
    "\n",
    "FIRST_VIDEO_POSITION = 0\n",
    "NEXT_VIDEO_POSITION = 0\n",
    "WATCH_TIME_VIDEOS = 120\n",
    "MAX_VIDEOS = 30\n",
    "\n",
    "\n",
    "def start_browser():\n",
    "    chrome_options = webdriver.ChromeOptions()\n",
    "    chrome_options.add_argument(\"--mute-audio\")\n",
    "    \n",
    "    browser = webdriver.Chrome(ChromeDriverManager().install(),options=chrome_options)\n",
    "    browser.get(\"https://www.youtube.com\")\n",
    "    time.sleep(2)\n",
    "    # Enlève la pop-up de bienvenue sur YouTube\n",
    "    buttons = browser.find_element(By.LINK_TEXT,'I AGREE')\n",
    "    buttons.click()\n",
    "    \n",
    "    return browser\n",
    "\n",
    "\n",
    "def click_on_next_video(browser, next_video_position=0):\n",
    "    videos = browser.find_elements(By.XPATH, \"//a[@id='thumbnail'][@href]\")\n",
    "    videos[next_video_position].click()\n",
    "    time.sleep(1)\n",
    "    browser.refresh()\n",
    "    return videos[next_videos_position].get_property('href')\n",
    "\n",
    "browser = start_browser()\n",
    "cpt=0\n",
    "next_video = FIRST_VIDEO_POSITION\n",
    "watched_videos = []\n",
    "\n",
    "while cpt<MAX_VIDEOS:\n",
    "    time.sleep(2)\n",
    "    cpt+=1\n",
    "    watched_videos.append(click_on_next_video(browser, next_video))\n",
    "    next_video = NEXT_VIDEO_POSITION\n",
    "    \n",
    "    if len(browser.find_elements(By.XPATH, \"//button[@title='Play (k)']\"))>0:\n",
    "        browser.find_element(By.XPATH, \"//button[@title='Play (k)']\").click()\n",
    "    time.sleep(WATCH_TIME_VIDEOS)\n",
    "    \n",
    "browser.close()"
   ]
  },
  {
   "cell_type": "code",
   "execution_count": null,
   "id": "c2275d04-b3c3-42fb-8696-0e775f830f75",
   "metadata": {},
   "outputs": [],
   "source": [
    "# Etape 2: Choper les infos des vidéos\n"
   ]
  },
  {
   "cell_type": "code",
   "execution_count": null,
   "id": "8e5d6e74-fb2b-4c48-b781-a8dcf20f0bb8",
   "metadata": {},
   "outputs": [],
   "source": []
  }
 ],
 "metadata": {
  "kernelspec": {
   "display_name": "Python 3 (ipykernel)",
   "language": "python",
   "name": "python3"
  },
  "language_info": {
   "codemirror_mode": {
    "name": "ipython",
    "version": 3
   },
   "file_extension": ".py",
   "mimetype": "text/x-python",
   "name": "python",
   "nbconvert_exporter": "python",
   "pygments_lexer": "ipython3",
   "version": "3.8.12"
  }
 },
 "nbformat": 4,
 "nbformat_minor": 5
}
